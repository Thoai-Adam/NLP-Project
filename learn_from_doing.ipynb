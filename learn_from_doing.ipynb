{
 "cells": [
  {
   "cell_type": "markdown",
   "id": "4a914262",
   "metadata": {},
   "source": [
    "# NLP tutorial\n",
    "\n",
    "https://www.youtube.com/watch?v=M7SWr5xObkA"
   ]
  },
  {
   "cell_type": "markdown",
   "id": "3b6ac7e4",
   "metadata": {},
   "source": [
    "## Outline\n",
    "* NLP Fundamental\n",
    "\n",
    "* bag-of-words: take pieces of text to turn into numerical \n",
    "* Word Vectors\n",
    "* Regexes : pattern matching\n",
    "* Stemming and Lemmatization\n",
    "* Spell Correction\n",
    "\n",
    "* Recurrent neural Nets\n",
    "* Transformer architecture\n",
    "* OpenAI GPT, BERT"
   ]
  },
  {
   "cell_type": "markdown",
   "id": "211a43bf",
   "metadata": {},
   "source": [
    "## Bag-of-words"
   ]
  },
  {
   "cell_type": "code",
   "execution_count": 23,
   "id": "2dedf931",
   "metadata": {},
   "outputs": [],
   "source": [
    "from sklearn.feature_extraction.text import CountVectorizer\n"
   ]
  },
  {
   "cell_type": "code",
   "execution_count": 39,
   "id": "3205dc5f",
   "metadata": {},
   "outputs": [
    {
     "name": "stdout",
     "output_type": "stream",
     "text": [
      "['and' 'document' 'first' 'is' 'one' 'second' 'the' 'third' 'this']\n"
     ]
    },
    {
     "data": {
      "text/plain": [
       "array([[0, 1, 1, 1, 0, 0, 1, 0, 1],\n",
       "       [0, 2, 0, 1, 0, 1, 1, 0, 1],\n",
       "       [1, 0, 0, 1, 1, 0, 1, 1, 1],\n",
       "       [0, 1, 1, 1, 0, 0, 1, 0, 1]])"
      ]
     },
     "execution_count": 39,
     "metadata": {},
     "output_type": "execute_result"
    }
   ],
   "source": [
    "from sklearn.feature_extraction.text import CountVectorizer\n",
    "\n",
    "# Sample list of text documents\n",
    "train_x = [\"This is the first document.\",\n",
    "           \"This document is the second document.\",\n",
    "           \"And this is the third one.\",\n",
    "           \"Is this the first document?\"]\n",
    "\n",
    "# Create a CountVectorizer object\n",
    "vectorizer = CountVectorizer()\n",
    "\n",
    "# Fit the vectorizer to the training data and transform the documents into vectors\n",
    "vectors = vectorizer.fit_transform(train_x)\n",
    "\n",
    "# Get the feature names (i.e., words/terms) corresponding to the columns of the vectors\n",
    "feature_names = vectorizer.get_feature_names_out()\n",
    "\n",
    "# Print the feature names\n",
    "print(feature_names)\n",
    "\n",
    "vectors.toarray()\n"
   ]
  },
  {
   "cell_type": "code",
   "execution_count": null,
   "id": "2c0ff3d0",
   "metadata": {},
   "outputs": [],
   "source": []
  }
 ],
 "metadata": {
  "kernelspec": {
   "display_name": "Python 3 (ipykernel)",
   "language": "python",
   "name": "python3"
  },
  "language_info": {
   "codemirror_mode": {
    "name": "ipython",
    "version": 3
   },
   "file_extension": ".py",
   "mimetype": "text/x-python",
   "name": "python",
   "nbconvert_exporter": "python",
   "pygments_lexer": "ipython3",
   "version": "3.10.9"
  }
 },
 "nbformat": 4,
 "nbformat_minor": 5
}
